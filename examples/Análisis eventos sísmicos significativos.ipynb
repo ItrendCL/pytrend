{
 "cells": [
  {
   "cell_type": "code",
   "execution_count": null,
   "id": "7cbc74a5",
   "metadata": {},
   "outputs": [],
   "source": [
    "import os\n",
    "import pytrend\n",
    "import numpy as np\n",
    "import pandas as pd\n",
    "import matplotlib.pyplot as plt"
   ]
  },
  {
   "cell_type": "code",
   "execution_count": null,
   "id": "c03b883e",
   "metadata": {},
   "outputs": [],
   "source": [
    "session = pytrend.itrend_developer_tools()\n",
    "\n",
    "session.set_credentials(\n",
    "    access_key_id = '',    # Ingresa tu access_key_id\n",
    "    secret_access_key = '' # Ingresa tu secret_access_key\n",
    ")\n",
    "\n",
    "# Conjunto de datos\n",
    "dataset_id = 'itrend-ds:ZW5TFERBT8B0GMQ'\n",
    "collection_id = 'Identificador'\n",
    "\n",
    "# Obtener formatos disponibles\n",
    "dataset_formats = session.get_dataset_formats(dataset_id)\n",
    "fmt = dataset_formats[0] # Escoger el formato que más le acomode: dataset_formats = [csv, geojson, shp]\n",
    "\n",
    "# Descargar archivo\n",
    "response = session.download_file(dataset_id, fmt)\n",
    "print(response)"
   ]
  },
  {
   "cell_type": "code",
   "execution_count": null,
   "id": "47a91fcf",
   "metadata": {},
   "outputs": [],
   "source": [
    "# Leemos la tabla\n",
    "df = pd.read_csv(response.get('filename'), delimiter=response.get('delimiter'))\n",
    "df.head()"
   ]
  },
  {
   "cell_type": "code",
   "execution_count": null,
   "id": "dd264a9d",
   "metadata": {},
   "outputs": [],
   "source": [
    "fig = plt.figure()\n",
    "ax = fig.add_subplot(111)\n",
    "hist = ax.hist(df['Magnitud [*]'], ec='k', bins=30)\n",
    "_ = ax.set_ylabel('Número de eventos')\n",
    "_ = ax.set_xlabel('Magnitud [*]')"
   ]
  },
  {
   "cell_type": "code",
   "execution_count": null,
   "id": "8df5ce16",
   "metadata": {},
   "outputs": [],
   "source": [
    "# Descargaremos los registros del evento más reciente\n",
    "element_id = df.iloc[-1][collection_id]\n",
    "print(element_id)"
   ]
  },
  {
   "cell_type": "code",
   "execution_count": null,
   "id": "2c231e00",
   "metadata": {},
   "outputs": [],
   "source": [
    "element_formats = session.get_element_formats(dataset_id)\n",
    "print(element_formats)\n",
    "fmt = element_formats[1] # npz"
   ]
  },
  {
   "cell_type": "code",
   "execution_count": null,
   "id": "25304ad0",
   "metadata": {},
   "outputs": [],
   "source": [
    "response = session.download_file(dataset_id, fmt, element_id)\n",
    "print(response)"
   ]
  },
  {
   "cell_type": "code",
   "execution_count": null,
   "id": "6a55d34f",
   "metadata": {},
   "outputs": [],
   "source": [
    "with np.load(response['filename'], allow_pickle=True) as f:\n",
    "    event = {}\n",
    "    for key, value in f.items():\n",
    "        event[key] = value.item()\n",
    "\n",
    "print('Estaciones', list(event.keys()))"
   ]
  },
  {
   "cell_type": "code",
   "execution_count": null,
   "id": "8e2a3506",
   "metadata": {},
   "outputs": [],
   "source": [
    "station_id = list(event.keys())[0]\n",
    "station = event.get(station_id)\n",
    "\n",
    "channels = list(station.keys())\n",
    "channel = station.get(channels[0])\n",
    "print(channels)\n",
    "print(list(channel.keys()))"
   ]
  },
  {
   "cell_type": "code",
   "execution_count": null,
   "id": "4b6b1a0c",
   "metadata": {},
   "outputs": [],
   "source": [
    "fig = plt.figure(figsize=(12,12))\n",
    "\n",
    "for i, (channel_id, channel) in enumerate(station.items()):\n",
    "    ax = fig.add_subplot(3, 1, i+1)\n",
    "    ax.plot(channel['x'], channel['y'], label=channel_id, lw=0.5)\n",
    "    ax.set_xlabel(channel['lab']['x'])\n",
    "    ax.set_ylabel(channel['lab']['y'])\n",
    "    ax.legend()\n",
    "    ax.grid(True)\n",
    "    \n",
    "_ = fig.suptitle('Evento: ' + df.iloc[-1][collection_id] +\n",
    "                 '\\nFecha: ' + df.iloc[-1]['Fecha (UTC)'] +\n",
    "                 '\\nEstación: ' + station_id)"
   ]
  },
  {
   "cell_type": "code",
   "execution_count": null,
   "id": "21248c53",
   "metadata": {},
   "outputs": [],
   "source": []
  }
 ],
 "metadata": {
  "kernelspec": {
   "display_name": "Python 3 (ipykernel)",
   "language": "python",
   "name": "python3"
  },
  "language_info": {
   "codemirror_mode": {
    "name": "ipython",
    "version": 3
   },
   "file_extension": ".py",
   "mimetype": "text/x-python",
   "name": "python",
   "nbconvert_exporter": "python",
   "pygments_lexer": "ipython3",
   "version": "3.8.8"
  }
 },
 "nbformat": 4,
 "nbformat_minor": 5
}
